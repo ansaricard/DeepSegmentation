{
 "cells": [
  {
   "cell_type": "markdown",
   "id": "2d46fd71",
   "metadata": {},
   "source": [
    "# First step: get fammilar with git"
   ]
  },
  {
   "cell_type": "markdown",
   "id": "e35f54a5",
   "metadata": {},
   "source": [
    "Hi it is a test jupyter notebook for github using ie. use commit, pull and push command\n"
   ]
  },
  {
   "cell_type": "code",
   "execution_count": 4,
   "id": "c9904d78",
   "metadata": {},
   "outputs": [
    {
     "name": "stdout",
     "output_type": "stream",
     "text": [
      "I am glad to be here beside your good team hopefully it's a best place\n"
     ]
    }
   ],
   "source": [
    "print(\"I am glad to be here beside your good team hopefully it's a best place\")"
   ]
  }
 ],
 "metadata": {
  "kernelspec": {
   "display_name": "Python 3",
   "language": "python",
   "name": "python3"
  },
  "language_info": {
   "codemirror_mode": {
    "name": "ipython",
    "version": 3
   },
   "file_extension": ".py",
   "mimetype": "text/x-python",
   "name": "python",
   "nbconvert_exporter": "python",
   "pygments_lexer": "ipython3",
   "version": "3.9.6"
  }
 },
 "nbformat": 4,
 "nbformat_minor": 5
}
