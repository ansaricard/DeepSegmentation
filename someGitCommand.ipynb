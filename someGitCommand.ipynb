{
 "cells": [
  {
   "cell_type": "markdown",
   "id": "2d46fd71",
   "metadata": {},
   "source": [
    "# First step: get familiar with git"
   ]
  },
  {
   "cell_type": "markdown",
   "id": "e35f54a5",
   "metadata": {},
   "source": [
    "Hi it is a test jupyter notebook for github using ie. use commit, pull and push command\n"
   ]
  },
  {
   "cell_type": "code",
   "execution_count": 2,
   "id": "c9904d78",
   "metadata": {},
   "outputs": [
    {
     "name": "stdout",
     "output_type": "stream",
     "text": [
      "I am glad to be here beside your good team hopefully it's a best place\n"
     ]
    }
   ],
   "source": [
    "print(\"I am glad to be here beside your good team hopefully it's a best place\")"
   ]
  },
  {
   "cell_type": "markdown",
   "id": "054c93df",
   "metadata": {},
   "source": [
    "### Some usefull command in summery for git\n",
    "you can access to your github, modify them or make every changes you want \n",
    "<br>some commands are: \n",
    "<br>git status\n",
    "<br>git init\n",
    "<br>git clone Https://your_githun_address\n",
    "<br>see all branches: \n",
    "<br>git branch \n",
    "<br>git checkout \"name of your branch\"\n",
    "<br>git pull origin main\n",
    "<br>git push origin main\n"
   ]
  },
  {
   "cell_type": "code",
   "execution_count": null,
   "id": "f0ff8987",
   "metadata": {},
   "outputs": [],
   "source": []
  }
 ],
 "metadata": {
  "kernelspec": {
   "display_name": "Python 3",
   "language": "python",
   "name": "python3"
  },
  "language_info": {
   "codemirror_mode": {
    "name": "ipython",
    "version": 3
   },
   "file_extension": ".py",
   "mimetype": "text/x-python",
   "name": "python",
   "nbconvert_exporter": "python",
   "pygments_lexer": "ipython3",
   "version": "3.9.6"
  }
 },
 "nbformat": 4,
 "nbformat_minor": 5
}
