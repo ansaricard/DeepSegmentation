{
 "cells": [
  {
   "cell_type": "markdown",
   "id": "2d46fd71",
   "metadata": {},
   "source": [
    "# First step: get familiar with git"
   ]
  },
  {
   "cell_type": "markdown",
   "id": "e35f54a5",
   "metadata": {},
   "source": [
    "Hi it is a test jupyter notebook for github using ie. use commit, pull and push command\n"
   ]
  },
  {
   "cell_type": "code",
   "execution_count": 2,
   "id": "c9904d78",
   "metadata": {},
   "outputs": [
    {
     "name": "stdout",
     "output_type": "stream",
     "text": [
      "I am glad to be here beside your good team hopefully it's a best place\n"
     ]
    }
   ],
   "source": [
    "print(\"I am glad to be here beside your good team hopefully it's a best place\")"
   ]
  },
  {
   "cell_type": "markdown",
   "id": "f320d0a5",
   "metadata": {},
   "source": [
    "#### first of all -->> you shoud use the selg git help via bellow commands:\n",
    "<br>git help --all\n",
    "<br>git \"command\" -help  ex: git commit -help \n",
    "<p>\n",
    "    <b>\n",
    "hint: in explanation prees \"q\" to exit and press \"shift+g\" for continue </b>\n",
    "</p>"
   ]
  },
  {
   "cell_type": "markdown",
   "id": "054c93df",
   "metadata": {},
   "source": [
    "### Some usefull command in summery for git\n",
    "you can access to your github, modify them or make every changes you want \n",
    "<br>\n",
    "<br>some commands are: \n",
    "<br>git status\n",
    "<br>git init\n",
    "<br>git clone Https://your_githun_address\n",
    "<br>git pull origin main\n",
    "<br>git push origin main\n",
    "\n",
    "<br> <b>create and move to a new branch:</b>\n",
    "<br>creation: git branch \"your_new_branch_name\"\n",
    "<br>move: git checkout \"your_new_branch_name\"\n",
    "<br>cration and move: git checkout -b \"name\"\n",
    "<br>see all branches: git branch\n",
    "\n",
    "<br> <b>add files to staged env and then commit them:</b>\n",
    "<br>git add --all\n",
    "<br>git add \"file_name\"\n",
    "<br>git commit -m \"your_explanation\"\n",
    "\n",
    "<b>to merge branch first go to main or master and then: </b>\n",
    "<br>git merge \"developer2_has_done\"\n",
    "\n",
    "delete a branch: git branch -d \"name\""
   ]
  }
 ],
 "metadata": {
  "kernelspec": {
   "display_name": "Python 3",
   "language": "python",
   "name": "python3"
  },
  "language_info": {
   "codemirror_mode": {
    "name": "ipython",
    "version": 3
   },
   "file_extension": ".py",
   "mimetype": "text/x-python",
   "name": "python",
   "nbconvert_exporter": "python",
   "pygments_lexer": "ipython3",
   "version": "3.9.6"
  }
 },
 "nbformat": 4,
 "nbformat_minor": 5
}
